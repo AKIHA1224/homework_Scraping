{
 "cells": [
  {
   "cell_type": "markdown",
   "id": "b4323801-bfef-4209-a1de-8099a93d02a7",
   "metadata": {},
   "source": [
    "# Homework 07\n",
    "\n",
    "#### Part Two-Scrape the content of https://www.lemonde.fr/en/ to an external site. and save it as a CSV\n",
    "#### We want: titles, subhead, article URL, whether it's premium or not, byline, article type, image URL."
   ]
  },
  {
   "cell_type": "code",
   "execution_count": 60,
   "id": "8b058235-1683-42ef-a49f-fbaa30d4e5a0",
   "metadata": {},
   "outputs": [],
   "source": [
    "from bs4 import BeautifulSoup\n",
    "import requests\n",
    "\n",
    "response = requests.get(\"https://www.lemonde.fr/en/\")\n",
    "doc = BeautifulSoup(response.text)"
   ]
  },
  {
   "cell_type": "code",
   "execution_count": 61,
   "id": "0533554c-762e-4c96-a523-337368a8fa9a",
   "metadata": {},
   "outputs": [],
   "source": [
    "#doc.find('title').text"
   ]
  },
  {
   "cell_type": "code",
   "execution_count": 62,
   "id": "bbc1d25b-7fa8-4ff0-acca-1707f8895c9c",
   "metadata": {},
   "outputs": [
    {
     "data": {
      "text/plain": [
       "<div class=\"article article--main\"> <a href=\"https://www.lemonde.fr/en/environment/article/2025/06/11/environmental-transition-the-two-faces-of-emmanuel-macron_6742252_114.html\"> <span class=\"icon__premium icon--outside\"><span class=\"sr-only\">Subscribers only</span></span><h1 class=\"article__title\"></h1><p class=\"article__title-label\">Environmental transition: The two faces of Emmanuel Macron</p> <div class=\"article__media-container\"> <picture class=\"article__media\"> <img alt=\"Emmanuel Macron on the program \" france=\"\" height=\"2\" in=\"\" june=\"\" loading=\"eager\" nice=\"\" oc=\"\" on=\"\" sizes=\"(min-width: 1024px) 421px, 100vw\" src=\"https://img.lemde.fr/2025/06/11/0/0/8256/5504/400/266/75/0/64dda24_sirius-fs-upload-1-o2z7pgbpwop7-1749622108697-dsc-7257.jpg\" srcset=\" https://img.lemde.fr/2025/06/11/0/0/8256/5504/800/533/75/0/64dda24_sirius-fs-upload-1-o2z7pgbpwop7-1749622108697-dsc-7257.jpg 400w, https://img.lemde.fr/2025/06/11/0/0/8256/5504/1000/666/75/0/64dda24_sirius-fs-upload-1-o2z7pgbpwop7-1749622108697-dsc-7257.jpg 500w, https://img.lemde.fr/2025/06/11/0/0/8256/5504/1200/800/75/0/64dda24_sirius-fs-upload-1-o2z7pgbpwop7-1749622108697-dsc-7257.jpg 600w, https://img.lemde.fr/2025/06/11/0/0/8256/5504/1400/933/75/0/64dda24_sirius-fs-upload-1-o2z7pgbpwop7-1749622108697-dsc-7257.jpg 700w, https://img.lemde.fr/2025/06/11/0/0/8256/5504/1600/1066/75/0/64dda24_sirius-fs-upload-1-o2z7pgbpwop7-1749622108697-dsc-7257.jpg 800w, https://img.lemde.fr/2025/06/11/0/0/8256/5504/1800/1200/75/0/64dda24_sirius-fs-upload-1-o2z7pgbpwop7-1749622108697-dsc-7257.jpg 900w\" urgence=\"\" width=\"3\"/> <noscript> <img alt=\"Emmanuel Macron on the program \" france=\"\" height=\"2\" in=\"\" june=\"\" nice=\"\" oc=\"\" on=\"\" src=\"https://img.lemde.fr/2025/06/11/0/0/8256/5504/400/266/75/0/64dda24_sirius-fs-upload-1-o2z7pgbpwop7-1749622108697-dsc-7257.jpg\" urgence=\"\" width=\"3\"/> </noscript> </picture> </div> <div class=\"article__media-credit article__media-credit--une\"> Jean-Louis Paris/France Télévisions. </div> <p class=\"article__desc\">Flying the flag for environmental action, as he did at the United Nations Ocean Conference in Nice, the French president has grown frustrated as his legacy is picked apart by the right and far right, as well as some of his own supporters.</p> </a> <ul class=\"article__related old__article-related-default\"> <li class=\"old__article-related-default-item\"> <a href=\"https://www.lemonde.fr/en/opinion/article/2025/06/11/macron-s-outburst-on-environmental-issues_6742235_23.html\">Macron's outburst on environmental issues </a> </li> <li class=\"old__article-related-default-item\"> <a href=\"https://www.lemonde.fr/en/politics/article/2025/06/11/will-macronism-outlive-macron_6742230_5.html\"><span class=\"icon__premium\"> <span class=\"sr-only\">Subscribers only</span> </span>Will Macronism outlive Macron? </a> </li> </ul> </div>"
      ]
     },
     "execution_count": 62,
     "metadata": {},
     "output_type": "execute_result"
    }
   ],
   "source": [
    "articles = doc.find_all(\"div\", class_=\"article\")\n",
    "articles[0]"
   ]
  },
  {
   "cell_type": "code",
   "execution_count": 63,
   "id": "2e7f23d0-f972-4b3b-a7b0-7709ca7bb68d",
   "metadata": {},
   "outputs": [],
   "source": [
    "rows = []\n",
    "\n",
    "articles = doc.find_all(\"div\", class_=\"article\")\n",
    "\n",
    "for article in articles:\n",
    "    try:\n",
    "        # URL\n",
    "        a_tag = article.find(\"a\", href=True)\n",
    "        if not a_tag:\n",
    "            continue\n",
    "        href = a_tag[\"href\"]\n",
    "        article_url = \"https://www.lemonde.fr\" + href if href.startswith(\"/\") else href\n",
    "        \n",
    "        # titles\n",
    "        title_tag = article.find(class_=\"article__title\")\n",
    "        title = title_tag.get_text(strip=True) if title_tag else \"N/A\"\n",
    "        \n",
    "        # subhead\n",
    "        subhead_tag = article.find(\"p\", class_=\"article__desc\")\n",
    "        subhead = subhead_tag.get_text(strip=True) if subhead_tag else \"N/A\"\n",
    "        \n",
    "        # whether it's premium or not\n",
    "        is_premium = \"Premium\" if article.find(class_=\"icon__premium\") else \"not Premium\"\n",
    "        \n",
    "        # byline\n",
    "        byline_tag = article.find(\"p\", class_=\"article__byline\")\n",
    "        byline = byline_tag.get_text(strip=True) if byline_tag else \"N/A\"\n",
    "        \n",
    "        # article type\n",
    "        type_tag = article.find(\"p\", class_=\"article__type\")\n",
    "        article_type = type_tag.get_text(strip=True) if type_tag else \"N/A\"\n",
    "        \n",
    "        # image URL\n",
    "        img_tag = article.find(\"img\")\n",
    "        img_url = img_tag[\"src\"] if img_tag and \"src\" in img_tag.attrs else \"N/A\"\n",
    "        \n",
    "        rows.append({\n",
    "            \"title\": title,\n",
    "            \"subhead\": subhead,\n",
    "            \"article URL\": article_url,\n",
    "            \"premium\": is_premium,\n",
    "            \"byline\": byline,\n",
    "            \"article type\": article_type,\n",
    "            \"image URL\": img_url\n",
    "        })\n",
    "    except Exception as e:\n",
    "        print(f\"error: {e}\")\n",
    "        continue"
   ]
  },
  {
   "cell_type": "code",
   "execution_count": 64,
   "id": "067113b0-62f4-4e10-9c0e-259f5bb8fd3b",
   "metadata": {},
   "outputs": [
    {
     "data": {
      "text/html": [
       "<div>\n",
       "<style scoped>\n",
       "    .dataframe tbody tr th:only-of-type {\n",
       "        vertical-align: middle;\n",
       "    }\n",
       "\n",
       "    .dataframe tbody tr th {\n",
       "        vertical-align: top;\n",
       "    }\n",
       "\n",
       "    .dataframe thead th {\n",
       "        text-align: right;\n",
       "    }\n",
       "</style>\n",
       "<table border=\"1\" class=\"dataframe\">\n",
       "  <thead>\n",
       "    <tr style=\"text-align: right;\">\n",
       "      <th></th>\n",
       "      <th>title</th>\n",
       "      <th>subhead</th>\n",
       "      <th>article URL</th>\n",
       "      <th>premium</th>\n",
       "      <th>byline</th>\n",
       "      <th>article type</th>\n",
       "      <th>image URL</th>\n",
       "    </tr>\n",
       "  </thead>\n",
       "  <tbody>\n",
       "    <tr>\n",
       "      <th>0</th>\n",
       "      <td></td>\n",
       "      <td>Flying the flag for environmental action, as h...</td>\n",
       "      <td>https://www.lemonde.fr/en/environment/article/...</td>\n",
       "      <td>Premium</td>\n",
       "      <td>N/A</td>\n",
       "      <td>N/A</td>\n",
       "      <td>https://img.lemde.fr/2025/06/11/0/0/8256/5504/...</td>\n",
       "    </tr>\n",
       "    <tr>\n",
       "      <th>1</th>\n",
       "      <td>Brian Wilson, one of pop music's great visiona...</td>\n",
       "      <td>N/A</td>\n",
       "      <td>https://www.lemonde.fr/en/culture/article/2025...</td>\n",
       "      <td>Premium</td>\n",
       "      <td>N/A</td>\n",
       "      <td>N/A</td>\n",
       "      <td>N/A</td>\n",
       "    </tr>\n",
       "    <tr>\n",
       "      <th>2</th>\n",
       "      <td>Harvey Weinstein found guilty of sexual assaul...</td>\n",
       "      <td>N/A</td>\n",
       "      <td>https://www.lemonde.fr/en/international/articl...</td>\n",
       "      <td>not Premium</td>\n",
       "      <td>N/A</td>\n",
       "      <td>N/A</td>\n",
       "      <td>N/A</td>\n",
       "    </tr>\n",
       "    <tr>\n",
       "      <th>3</th>\n",
       "      <td>Gavin Newsom delivers scathing criticism of Tr...</td>\n",
       "      <td>As the mayor of Los Angeles imposed a curfew a...</td>\n",
       "      <td>https://www.lemonde.fr/en/international/articl...</td>\n",
       "      <td>Premium</td>\n",
       "      <td>N/A</td>\n",
       "      <td>N/A</td>\n",
       "      <td>N/A</td>\n",
       "    </tr>\n",
       "    <tr>\n",
       "      <th>4</th>\n",
       "      <td>Colombia gripped by waves of violence</td>\n",
       "      <td>A series of attacks has plunged two southweste...</td>\n",
       "      <td>https://www.lemonde.fr/en/international/articl...</td>\n",
       "      <td>Premium</td>\n",
       "      <td>N/A</td>\n",
       "      <td>N/A</td>\n",
       "      <td>N/A</td>\n",
       "    </tr>\n",
       "  </tbody>\n",
       "</table>\n",
       "</div>"
      ],
      "text/plain": [
       "                                               title  \\\n",
       "0                                                      \n",
       "1  Brian Wilson, one of pop music's great visiona...   \n",
       "2  Harvey Weinstein found guilty of sexual assaul...   \n",
       "3  Gavin Newsom delivers scathing criticism of Tr...   \n",
       "4              Colombia gripped by waves of violence   \n",
       "\n",
       "                                             subhead  \\\n",
       "0  Flying the flag for environmental action, as h...   \n",
       "1                                                N/A   \n",
       "2                                                N/A   \n",
       "3  As the mayor of Los Angeles imposed a curfew a...   \n",
       "4  A series of attacks has plunged two southweste...   \n",
       "\n",
       "                                         article URL      premium byline  \\\n",
       "0  https://www.lemonde.fr/en/environment/article/...      Premium    N/A   \n",
       "1  https://www.lemonde.fr/en/culture/article/2025...      Premium    N/A   \n",
       "2  https://www.lemonde.fr/en/international/articl...  not Premium    N/A   \n",
       "3  https://www.lemonde.fr/en/international/articl...      Premium    N/A   \n",
       "4  https://www.lemonde.fr/en/international/articl...      Premium    N/A   \n",
       "\n",
       "  article type                                          image URL  \n",
       "0          N/A  https://img.lemde.fr/2025/06/11/0/0/8256/5504/...  \n",
       "1          N/A                                                N/A  \n",
       "2          N/A                                                N/A  \n",
       "3          N/A                                                N/A  \n",
       "4          N/A                                                N/A  "
      ]
     },
     "execution_count": 64,
     "metadata": {},
     "output_type": "execute_result"
    }
   ],
   "source": [
    "import pandas as pd\n",
    "df = pd.json_normalize(rows)\n",
    "df.head()"
   ]
  },
  {
   "cell_type": "code",
   "execution_count": 65,
   "id": "2020ea3f-3626-4bd6-a4ac-2ae02a0196d0",
   "metadata": {},
   "outputs": [],
   "source": [
    "df.to_csv(\"lemonde_articles.csv\", index=False)"
   ]
  },
  {
   "cell_type": "code",
   "execution_count": null,
   "id": "8d953477-be3b-4043-96f2-e9da4c23ac97",
   "metadata": {},
   "outputs": [],
   "source": []
  }
 ],
 "metadata": {
  "kernelspec": {
   "display_name": "Python 3 (ipykernel)",
   "language": "python",
   "name": "python3"
  },
  "language_info": {
   "codemirror_mode": {
    "name": "ipython",
    "version": 3
   },
   "file_extension": ".py",
   "mimetype": "text/x-python",
   "name": "python",
   "nbconvert_exporter": "python",
   "pygments_lexer": "ipython3",
   "version": "3.11.8"
  }
 },
 "nbformat": 4,
 "nbformat_minor": 5
}
