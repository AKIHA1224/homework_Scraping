{
 "cells": [
  {
   "cell_type": "markdown",
   "id": "b5c6b03e-484d-4233-8c38-1f750580087b",
   "metadata": {},
   "source": [
    "# Homework 07\n",
    "\n",
    "#### Part Three-Scrape the list of third party drivers license locations from https://travel-id-documents.az.gov/authorized-third-party-driver-license-locationsLinks to an external site. but include the link. Save as a CSV. Since it's more than just the text from the table, this requires actually using BeautifulSoup :("
   ]
  },
  {
   "cell_type": "code",
   "execution_count": 3,
   "id": "689e9d36-95be-4fb7-9149-998d01b9330b",
   "metadata": {},
   "outputs": [],
   "source": [
    "import requests\n",
    "from bs4 import BeautifulSoup"
   ]
  },
  {
   "cell_type": "code",
   "execution_count": 4,
   "id": "c6242d52-e34b-4581-adcb-cbd80303bc06",
   "metadata": {},
   "outputs": [],
   "source": [
    "from dotenv import load_dotenv\n",
    "import os\n",
    "\n",
    "load_dotenv()\n",
    "\n",
    "user_agent = os.getenv(\"USER_AGENT\")"
   ]
  },
  {
   "cell_type": "code",
   "execution_count": 5,
   "id": "65ae674d-664a-4224-9f10-b7c980946d8e",
   "metadata": {},
   "outputs": [],
   "source": [
    "url = \"https://travel-id-documents.az.gov/authorized-third-party-driver-license-locations\"\n",
    "headers = {\"User-Agent\":user_agent}\n",
    "response = requests.get(url, headers=headers)\n",
    "doc = BeautifulSoup(response.text, \"html.parser\")"
   ]
  },
  {
   "cell_type": "code",
   "execution_count": 6,
   "id": "d63b7f74-9d47-4ddf-b121-08d6f897d852",
   "metadata": {},
   "outputs": [],
   "source": [
    "#print(response.status_code)"
   ]
  },
  {
   "cell_type": "code",
   "execution_count": 7,
   "id": "56a3f025-2386-4c2e-8d8a-e5b9602af7c8",
   "metadata": {},
   "outputs": [],
   "source": [
    "#print(doc.title)"
   ]
  },
  {
   "cell_type": "code",
   "execution_count": 8,
   "id": "c76787c6-8af4-4992-92a9-884e1ba2b4ed",
   "metadata": {},
   "outputs": [],
   "source": [
    "# Company # Address # Telephone # Hours\n",
    "\n",
    "rows = []\n",
    "\n",
    "table_rows = doc.select(\"table tbody tr\")\n",
    "\n",
    "for tr in table_rows:\n",
    "    tds = tr.find_all('td')\n",
    "    if len(tds) == 4:\n",
    "        company = tds[0].get_text(separator=\" \", strip=True)\n",
    "        a_tag = tds[0].find(\"a\")\n",
    "        link = a_tag[\"href\"] if a_tag and a_tag.has_attr(\"href\") else \"N/A\"\n",
    "\n",
    "        address = tds[1].get_text(separator=\" \", strip=True)\n",
    "        phone = tds[2].get_text(separator=\" \", strip=True)\n",
    "        hours = tds[3].get_text(separator=\" \", strip=True)\n",
    "\n",
    "        rows.append({\n",
    "            \"Company\": company,\n",
    "            \"Address\": address,\n",
    "            \"Phone\": phone,\n",
    "            \"Hours\": hours,\n",
    "            \"Link\": link\n",
    "        })"
   ]
  },
  {
   "cell_type": "code",
   "execution_count": 9,
   "id": "fc7f901c-3a55-4218-af85-15391c15643b",
   "metadata": {},
   "outputs": [
    {
     "data": {
      "text/html": [
       "<div>\n",
       "<style scoped>\n",
       "    .dataframe tbody tr th:only-of-type {\n",
       "        vertical-align: middle;\n",
       "    }\n",
       "\n",
       "    .dataframe tbody tr th {\n",
       "        vertical-align: top;\n",
       "    }\n",
       "\n",
       "    .dataframe thead th {\n",
       "        text-align: right;\n",
       "    }\n",
       "</style>\n",
       "<table border=\"1\" class=\"dataframe\">\n",
       "  <thead>\n",
       "    <tr style=\"text-align: right;\">\n",
       "      <th></th>\n",
       "      <th>Company</th>\n",
       "      <th>Address</th>\n",
       "      <th>Phone</th>\n",
       "      <th>Hours</th>\n",
       "      <th>Link</th>\n",
       "    </tr>\n",
       "  </thead>\n",
       "  <tbody>\n",
       "    <tr>\n",
       "      <th>0</th>\n",
       "      <td>1 Stop Title &amp; Registration Services</td>\n",
       "      <td>940 N. Alma School Rd., #104 Chandler, AZ 85224</td>\n",
       "      <td>480.821.3288</td>\n",
       "      <td>Mon.-Fri. 8:00 a.m.-6:00 p.m. Sat. 9:00 a.m.-4...</td>\n",
       "      <td>http://az-mvd.com/</td>\n",
       "    </tr>\n",
       "    <tr>\n",
       "      <th>1</th>\n",
       "      <td>1 Stop Title &amp; Registration Services</td>\n",
       "      <td>5036 W. Cactus Rd., Ste. 2 Glendale, AZ 85304</td>\n",
       "      <td>602.264.2400</td>\n",
       "      <td>Mon.-Fri. 8:00 a.m.-6:00 p.m. Sat. 8:30 a.m.-4...</td>\n",
       "      <td>http://az-mvd.com/</td>\n",
       "    </tr>\n",
       "    <tr>\n",
       "      <th>2</th>\n",
       "      <td>Academy of Driving Motor Vehicle Center</td>\n",
       "      <td>4733 E. Broadway Blvd. Tucson, AZ 85711</td>\n",
       "      <td>520.750.7572</td>\n",
       "      <td>Mon.-Fri. 9 a.m.-5 p.m. and Sat. 9 a.m.-3 p.m.</td>\n",
       "      <td>N/A</td>\n",
       "    </tr>\n",
       "    <tr>\n",
       "      <th>3</th>\n",
       "      <td>Arizona Auto License</td>\n",
       "      <td>1337 W. Prince Rd Tucson, AZ 85705</td>\n",
       "      <td>520.696.2023</td>\n",
       "      <td>Driver License Hours: Mon.-Fri. 9 a.m.-5 p.m. ...</td>\n",
       "      <td>N/A</td>\n",
       "    </tr>\n",
       "    <tr>\n",
       "      <th>4</th>\n",
       "      <td>Arizona Auto License Service LLC</td>\n",
       "      <td>1457 N. Eliseo C Felix Jr. Way, Ste. 105 and 1...</td>\n",
       "      <td>623.925.5455 or Fax 623.925.5879</td>\n",
       "      <td>Mon.-Fri. 8 a.m.-5 p.m.</td>\n",
       "      <td>N/A</td>\n",
       "    </tr>\n",
       "  </tbody>\n",
       "</table>\n",
       "</div>"
      ],
      "text/plain": [
       "                                   Company  \\\n",
       "0     1 Stop Title & Registration Services   \n",
       "1     1 Stop Title & Registration Services   \n",
       "2  Academy of Driving Motor Vehicle Center   \n",
       "3                     Arizona Auto License   \n",
       "4         Arizona Auto License Service LLC   \n",
       "\n",
       "                                             Address  \\\n",
       "0    940 N. Alma School Rd., #104 Chandler, AZ 85224   \n",
       "1      5036 W. Cactus Rd., Ste. 2 Glendale, AZ 85304   \n",
       "2            4733 E. Broadway Blvd. Tucson, AZ 85711   \n",
       "3                 1337 W. Prince Rd Tucson, AZ 85705   \n",
       "4  1457 N. Eliseo C Felix Jr. Way, Ste. 105 and 1...   \n",
       "\n",
       "                              Phone  \\\n",
       "0                      480.821.3288   \n",
       "1                      602.264.2400   \n",
       "2                      520.750.7572   \n",
       "3                      520.696.2023   \n",
       "4  623.925.5455 or Fax 623.925.5879   \n",
       "\n",
       "                                               Hours                Link  \n",
       "0  Mon.-Fri. 8:00 a.m.-6:00 p.m. Sat. 9:00 a.m.-4...  http://az-mvd.com/  \n",
       "1  Mon.-Fri. 8:00 a.m.-6:00 p.m. Sat. 8:30 a.m.-4...  http://az-mvd.com/  \n",
       "2     Mon.-Fri. 9 a.m.-5 p.m. and Sat. 9 a.m.-3 p.m.                 N/A  \n",
       "3  Driver License Hours: Mon.-Fri. 9 a.m.-5 p.m. ...                 N/A  \n",
       "4                            Mon.-Fri. 8 a.m.-5 p.m.                 N/A  "
      ]
     },
     "execution_count": 9,
     "metadata": {},
     "output_type": "execute_result"
    }
   ],
   "source": [
    "import pandas as pd\n",
    "df = pd.json_normalize(rows)\n",
    "df.head()"
   ]
  },
  {
   "cell_type": "code",
   "execution_count": 12,
   "id": "02cd0819-9190-492c-82f2-785f75c1055f",
   "metadata": {},
   "outputs": [],
   "source": [
    "df.to_csv(\"drivers_license_locations .csv\", index=False)"
   ]
  },
  {
   "cell_type": "code",
   "execution_count": null,
   "id": "068f1386-b715-495c-9e5a-1f67c3154105",
   "metadata": {},
   "outputs": [],
   "source": []
  }
 ],
 "metadata": {
  "kernelspec": {
   "display_name": "Python 3 (ipykernel)",
   "language": "python",
   "name": "python3"
  },
  "language_info": {
   "codemirror_mode": {
    "name": "ipython",
    "version": 3
   },
   "file_extension": ".py",
   "mimetype": "text/x-python",
   "name": "python",
   "nbconvert_exporter": "python",
   "pygments_lexer": "ipython3",
   "version": "3.11.8"
  }
 },
 "nbformat": 4,
 "nbformat_minor": 5
}
